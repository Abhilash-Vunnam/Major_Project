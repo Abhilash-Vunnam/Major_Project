{
 "cells": [
  {
   "cell_type": "markdown",
   "metadata": {},
   "source": [
    "# Spam Comment Classification\n",
    "\n"
   ]
  },
  {
   "cell_type": "code",
   "execution_count": 1,
   "metadata": {},
   "outputs": [],
   "source": [
    "# Importing data analysis packages\n",
    "import pandas as pd\n",
    "import numpy as np\n",
    "\n",
    "# Importing natural language processing packages\n",
    "import re\n",
    "import nltk\n",
    "from nltk.corpus import stopwords \n",
    "from nltk.tokenize import word_tokenize \n",
    "from nltk.stem import PorterStemmer\n",
    "\n",
    "# Importing model selection and feature extraction packages\n",
    "from sklearn.model_selection import train_test_split\n",
    "from sklearn.model_selection import StratifiedShuffleSplit, cross_validate, GridSearchCV, cross_val_score\n",
    "from sklearn.feature_extraction.text import CountVectorizer\n",
    "\n",
    "# Importing machine learning packages\n",
    "from sklearn.linear_model import LinearRegression, LogisticRegression, RidgeClassifier, SGDClassifier, PassiveAggressiveClassifier\n",
    "from sklearn.gaussian_process import GaussianProcessClassifier\n",
    "from lightgbm import LGBMClassifier\n",
    "from sklearn.svm import SVC, LinearSVC, NuSVC \n",
    "from sklearn.neighbors import KNeighborsClassifier, RadiusNeighborsClassifier\n",
    "from sklearn.naive_bayes import GaussianNB, MultinomialNB, BernoulliNB, ComplementNB\n",
    "from sklearn.tree import DecisionTreeClassifier\n",
    "from sklearn.ensemble import RandomForestClassifier, AdaBoostClassifier, GradientBoostingClassifier, BaggingClassifier, ExtraTreesClassifier, VotingClassifier\n",
    "from sklearn.neural_network import MLPClassifier\n",
    "from xgboost import XGBClassifier\n",
    "\n",
    "# Importing data visualization packages\n",
    "import seaborn as sns\n",
    "import matplotlib.pyplot as plt\n",
    "%matplotlib inline\n",
    "sns.set(style=\"whitegrid\")\n",
    "\n",
    "# Miscellaneous\n",
    "import time\n",
    "import warnings\n",
    "warnings.filterwarnings('ignore')"
   ]
  },
  {
   "cell_type": "markdown",
   "metadata": {},
   "source": [
    "---\n",
    "<a id='section 1.0.'></a>\n",
    "## 1.0. Data Import\n"
   ]
  },
  {
   "cell_type": "code",
   "execution_count": 2,
   "metadata": {},
   "outputs": [
    {
     "name": "stdout",
     "output_type": "stream",
     "text": [
      "        No                                            Comment  Class\n",
      "0        1                                this song is racist      0\n",
      "1        2  and how many subscribers compared to her over ...      1\n",
      "2        3  HI! CHECK OUT OUR AWESOME COVERS! AND SAY WHAT...      1\n",
      "3        4                                  well done shakira      0\n",
      "4        5                 :D subscribe to me for daily vines      1\n",
      "...    ...                                                ...    ...\n",
      "1295  1296                                      Awsome<br />﻿      0\n",
      "1296  1297                https://www.tsu.co/KodysMan plz ^^﻿      1\n",
      "1297  1298  Sign up for free on TSU and start making money...      1\n",
      "1298  1299  MEGAN FOX AND EMINEM TOGETHER IN A VIDEO  DOES...      0\n",
      "1299  1300                              Great.This is a song﻿      0\n",
      "\n",
      "[1300 rows x 3 columns]\n"
     ]
    }
   ],
   "source": [
    "df=pd.read_excel(r'data\\Comment Spam.xlsx');\n",
    "    \n",
    "# Show the first 5 rows the dataset\n",
    "print(df)"
   ]
  },
  {
   "cell_type": "markdown",
   "metadata": {},
   "source": [
    "We only need data from `Comment` and `Class` column. So, we put them in the `comments` and `labels` variable, respectively. "
   ]
  },
  {
   "cell_type": "code",
   "execution_count": 3,
   "metadata": {},
   "outputs": [],
   "source": [
    "comments = df['Comment']\n",
    "labels = df['Class'].values"
   ]
  },
  {
   "cell_type": "markdown",
   "metadata": {},
   "source": [
    "Let's see the distribution of labels in the dataset."
   ]
  },
  {
   "cell_type": "code",
   "execution_count": 4,
   "metadata": {},
   "outputs": [
    {
     "data": {
      "text/plain": [
       "1    669\n",
       "0    631\n",
       "dtype: int64"
      ]
     },
     "execution_count": 4,
     "metadata": {},
     "output_type": "execute_result"
    }
   ],
   "source": [
    "pd.Series(labels).value_counts()"
   ]
  },
  {
   "cell_type": "markdown",
   "metadata": {},
   "source": []
  },
  {
   "cell_type": "code",
   "execution_count": 5,
   "metadata": {},
   "outputs": [],
   "source": [
    "# Lowercase all words\n",
    "comments = comments.apply(lambda x: x.lower())"
   ]
  },
  {
   "cell_type": "markdown",
   "metadata": {},
   "source": [
    "<a id='section 2.2.'></a>\n",
    "### 2.2. Replace URL\n"
   ]
  },
  {
   "cell_type": "code",
   "execution_count": 6,
   "metadata": {},
   "outputs": [],
   "source": [
    "def replace_url(text, replacement):\n",
    "    text = str(text)\n",
    "    text = re.sub('http[s]?://(?:[a-zA-Z]|[0-9]|[$-_@.&+]|[!*\\(\\),]|(?:%[0-9a-fA-F][0-9a-fA-F]))+', replacement, text)\n",
    "    text = re.sub('[/]?watch(?:[a-zA-Z]|[0-9]|[$-_@.&+]|[!*\\(\\),]|(?:%[0-9a-fA-F][0-9a-fA-F]))+', replacement, text)\n",
    "    \n",
    "    return text\n",
    "\n",
    "# Replace url to http\n",
    "comments = comments.apply(lambda x: replace_url(x, 'http'))"
   ]
  },
  {
   "cell_type": "markdown",
   "metadata": {},
   "source": [
    "<a id='section 2.3.'></a>\n",
    "### 2.3. Remove Encoding\n"
   ]
  },
  {
   "cell_type": "code",
   "execution_count": 7,
   "metadata": {},
   "outputs": [],
   "source": [
    "def remove_encoding(text):\n",
    "    text = str(text)\n",
    "    text = text.replace('\\ufeff', '')\n",
    "    return text\n",
    "\n",
    "# Remove encoding\n",
    "comments = comments.apply(lambda x: remove_encoding(x))"
   ]
  },
  {
   "cell_type": "code",
   "execution_count": 8,
   "metadata": {},
   "outputs": [],
   "source": [
    "# tokenize all comments in the data\n",
    "comments_token = comments.apply(lambda x: x.split())"
   ]
  },
  {
   "cell_type": "code",
   "execution_count": 9,
   "metadata": {},
   "outputs": [
    {
     "name": "stdout",
     "output_type": "stream",
     "text": [
      "Average word length of comments is 16.\n",
      "Max word length of comments is 213.\n",
      "Min word length of comments is 1.\n"
     ]
    }
   ],
   "source": [
    "print('Average word length of comments is {0:.0f}.'.format(np.mean(comments_token.apply(lambda x: len(x)))))\n",
    "print('Max word length of comments is {0:.0f}.'.format(np.max(comments_token.apply(lambda x: len(x)))))\n",
    "print('Min word length of comments is {0:.0f}.'.format(np.min(comments_token.apply(lambda x: len(x)))))"
   ]
  },
  {
   "cell_type": "markdown",
   "metadata": {},
   "source": [
    "<a id='section 3.2.'></a>\n",
    "### 3.2. Stop Words Removal\n",
    "  "
   ]
  },
  {
   "cell_type": "code",
   "execution_count": 10,
   "metadata": {},
   "outputs": [],
   "source": [
    "stop_words=set(stopwords.words('english')) \n",
    "\n",
    "comments_rsw=[]\n",
    "for comment_token in comments_token:\n",
    "    filtered_comment=[w for w in comment_token if not w in stop_words] \n",
    "    comments_rsw.append(filtered_comment)"
   ]
  },
  {
   "cell_type": "markdown",
   "metadata": {},
   "source": [
    "<a id='section 3.3.'></a>\n",
    "### 3.3. Lemmatization\n"
   ]
  },
  {
   "cell_type": "code",
   "execution_count": 11,
   "metadata": {},
   "outputs": [],
   "source": [
    "def lemmatization(dataset):\n",
    "    lemma=nltk.WordNetLemmatizer()\n",
    "    comments_lemma=[]\n",
    "    for comment in comments_rsw:\n",
    "        comment_lemma=[lemma.lemmatize(w) for w in comment]\n",
    "        comments_lemma.append(comment_lemma)\n",
    "    return comments_lemma\n",
    "\n",
    "# Words lemmatization\n",
    "comments_lemma=lemmatization(comments_rsw)"
   ]
  },
  {
   "cell_type": "markdown",
   "metadata": {},
   "source": [
    "<a id='section 3.4.'></a>\n",
    "### 3.4. Train and Test Set Split\n"
   ]
  },
  {
   "cell_type": "code",
   "execution_count": 12,
   "metadata": {},
   "outputs": [],
   "source": [
    "X_train, X_test, y_train, y_test = train_test_split(comments_lemma, \n",
    "                                                    labels, \n",
    "                                                    test_size=0.2, \n",
    "                                                    shuffle=True, \n",
    "                                                    random_state=0, \n",
    "                                                    stratify=labels)"
   ]
  },
  {
   "cell_type": "markdown",
   "metadata": {},
   "source": [
    "<a id='section 3.5.'></a>\n",
    "### 3.5. Create Bag of Words\n"
   ]
  },
  {
   "cell_type": "code",
   "execution_count": 13,
   "metadata": {},
   "outputs": [],
   "source": [
    "# Create bag of words\n",
    "\n",
    "X_train_untokenized = []\n",
    "\n",
    "for comment in X_train:\n",
    "    text = ' '.join(comment)\n",
    "    X_train_untokenized.append(text)\n",
    "    \n",
    "vect = CountVectorizer(min_df=3)\n",
    "vect.fit(X_train_untokenized)\n",
    "\n",
    "\n",
    "X_test_untokenized = []\n",
    "\n",
    "for comment in X_test:\n",
    "    text = ' '.join(comment)\n",
    "    X_test_untokenized.append(text)\n",
    "\n",
    "X_train = vect.transform(X_train_untokenized).toarray()\n",
    "X_test = vect.transform(X_test_untokenized).toarray()"
   ]
  },
  {
   "cell_type": "markdown",
   "metadata": {},
   "source": [
    "---\n",
    "<a id='section 4.0.'></a>\n",
    "## 4.0. Define Models\n"
   ]
  },
  {
   "cell_type": "markdown",
   "metadata": {},
   "source": [
    "<a id='section 4.1.'></a>\n",
    "### 4.1. Simple Modelling\n"
   ]
  },
  {
   "cell_type": "code",
   "execution_count": 14,
   "metadata": {},
   "outputs": [
    {
     "data": {
      "image/png": "[encoded data removed]",
      "text/plain": [
       "<Figure size 1200x1000 with 1 Axes>"
      ]
     },
     "metadata": {},
     "output_type": "display_data"
    }
   ],
   "source": [
    "# List of machine learning algorithms that will be used for predictions\n",
    "estimator = [('Logistic Regression', LogisticRegression), ('Ridge Classifier', RidgeClassifier), \n",
    "             ('SGD Classifier', SGDClassifier), ('Passive Aggressive Classifier', PassiveAggressiveClassifier), \n",
    "             ('SVC', SVC), ('Linear SVC', LinearSVC), ('Nu SVC', NuSVC), \n",
    "             ('K-Neighbors Classifier', KNeighborsClassifier),\n",
    "             ('Extra Trees Classifier',LGBMClassifier),\n",
    "             ('Gaussian Naive Bayes', GaussianNB), ('Multinomial Naive Bayes', MultinomialNB), \n",
    "             ('Bernoulli Naive Bayes', BernoulliNB), ('Complement Naive Bayes', ComplementNB), \n",
    "             ('Decision Tree Classifier', DecisionTreeClassifier), \n",
    "             ('Random Forest Classifier', RandomForestClassifier), ('AdaBoost Classifier', AdaBoostClassifier), \n",
    "             ('Gradient Boosting Classifier', GradientBoostingClassifier), ('Bagging Classifier', BaggingClassifier), \n",
    "             ('LightBgm Classifier', ExtraTreesClassifier), ('XGBoost', XGBClassifier)]\n",
    "\n",
    "# Creating a dataframe to compare the performance of the machine learning models\n",
    "comparison_cols = ['Algorithm', 'Training Time (Avg)', 'Accuracy (Avg)', 'Accuracy (3xSTD)']\n",
    "comparison_df = pd.DataFrame(columns=comparison_cols)\n",
    "\n",
    "# Generating training/validation dataset splits for cross validation\n",
    "cv_split = StratifiedShuffleSplit(n_splits=10, test_size=0.3, random_state=0)\n",
    "\n",
    "# Performing cross-validation to estimate the performance of the models\n",
    "for idx, est in enumerate(estimator):\n",
    "    \n",
    "    cv_results = cross_validate(est[1](), X_train, y_train, cv=cv_split)\n",
    "    \n",
    "    comparison_df.loc[idx, 'Algorithm'] = est[0]\n",
    "    comparison_df.loc[idx, 'Training Time (Avg)'] = cv_results['fit_time'].mean()\n",
    "    comparison_df.loc[idx, 'Accuracy (Avg)'] = cv_results['test_score'].mean()\n",
    "    comparison_df.loc[idx, 'Accuracy (3xSTD)'] = cv_results['test_score'].std() * 3\n",
    "\n",
    "comparison_df.set_index(keys='Algorithm', inplace=True)\n",
    "comparison_df.sort_values(by='Accuracy (Avg)', ascending=False, inplace=True)\n",
    "\n",
    "#Visualizing the performance of the models\n",
    "fig, ax = plt.subplots(figsize=(12,10))\n",
    "\n",
    "y_pos = np.arange(len(comparison_df))\n",
    "ax.barh(y_pos, comparison_df['Accuracy (Avg)'], xerr=comparison_df['Accuracy (3xSTD)'], color='purple')\n",
    "ax.set_yticks(y_pos)\n",
    "ax.set_yticklabels(comparison_df.index)\n",
    "ax.set_xlabel('Accuracy Score (Average)')\n",
    "ax.set_title('Performance Comparison After Simple Modelling', size=13)\n",
    "ax.set_xlim(0, 1)\n",
    "\n",
    "plt.show()"
   ]
  },
  {
   "cell_type": "markdown",
   "metadata": {},
   "source": []
  },
  {
   "cell_type": "markdown",
   "metadata": {},
   "source": [
    "<a id='section 4.2.'></a>\n",
    "### 4.2. Hyperparameter Optimization for the Best Models\n"
   ]
  },
  {
   "cell_type": "code",
   "execution_count": 15,
   "metadata": {},
   "outputs": [],
   "source": [
    "# A list of machine learning algorithms that will be optimized\n",
    "estimator = [('LightBgm Classifier', ExtraTreesClassifier), \n",
    "             ('Linear SVC', LinearSVC), ('Bagging Classifier', BaggingClassifier),\n",
    "             ('Gradient Boosting Classifier', GradientBoostingClassifier),\n",
    "             ('Extra Trees Classifier',LGBMClassifier),\n",
    "             ('AdaBoost Classifier', AdaBoostClassifier),\n",
    "             ('Random Forest Classifier', RandomForestClassifier),\n",
    "             ('Logistic Regression', LogisticRegression),  \n",
    "             ('Passive Aggressive Classifier', PassiveAggressiveClassifier)]\n",
    "\n",
    "index = [est[0] for est in estimator]\n",
    "\n",
    "# A dictionary containing hyperparameters that are to be optimized for each machine learning algorithm\n",
    "grid_params = {'SVC': {'C': np.arange(1,21,1), 'gamma': [0.005, 0.01, 0.015, 0.02], 'random_state': [0]},\n",
    "               'Ridge Classifier': {'alpha': [0.001, 0.0025, 0.005], 'random_state': [0]},\n",
    "               'Nu SVC': {'nu': [0.5], 'gamma': [0.001, 0.01, 0.1, 1], 'random_state': [0]},\n",
    "               'Gradient Boosting Classifier': {'learning_rate': [0.001, 0.005, 0.01, 0.015], 'random_state': [0],\n",
    "                                                'max_depth': [1,2,3,4,5], 'n_estimators': [300, 350, 400, 450, 500]},\n",
    "               'Extra Trees Classifier': {'learning_rate': [0.001, 0.005, 0.01, 0.015], 'random_state': [0],\n",
    "                                                'max_depth': [1,2,3,4,5], 'n_estimators': [300, 350, 400, 450, 500]},\n",
    "               'Linear SVC': {'C': [1, 5, 10], 'random_state': [0]},\n",
    "               'Logistic Regression': {'C': np.arange(2,7.5,0.25), \n",
    "                                       'solver': ['newton-cg', 'lbfgs', 'liblinear', 'sag', 'saga'], \n",
    "                                       'random_state': [0]},\n",
    "               'AdaBoost Classifier': {'learning_rate': np.arange(0.05, 0.21, 0.01), 'n_estimators': [50, 75, 100, 125, 150], \n",
    "                                       'random_state': [0]},\n",
    "               'Random Forest Classifier': {'n_estimators': [200, 250, 300, 350], 'max_depth': [1,2,3,4,5,6], \n",
    "                                            'criterion': ['gini', 'entropy'], 'random_state': [0]},\n",
    "               'Bagging Classifier': {'n_estimators': np.arange(200, 300, 10), 'random_state': [0]},\n",
    "               'XGBoost': {'learning_rate': [0.001, 0.005, 0.01, 0.015], 'random_state': [0],\n",
    "                           'max_depth': [1,2,3,4,5], 'n_estimators': [300, 350, 400, 450, 500]},\n",
    "               'LightBgm Classifier': {'n_estimators': [10, 20, 50, 100], 'criterion': ['gini', 'entropy'],\n",
    "                                          'random_state': [0]},\n",
    "               'Passive Aggressive Classifier': {'C': np.arange(1,21,1)}\n",
    "              }\n",
    "\n",
    "# Creating a dataframe to compare the performance of the machine learning models after hyperparameter optimization \n",
    "best_params_df = pd.DataFrame(columns=['Optimized Hyperparameters', 'Accuracy'], index=index)\n",
    "\n",
    "# Performing grid-search cross-validation to optimize hyperparameters and estimate the performance of the models\n",
    "for idx, est in enumerate(estimator):\n",
    "    \n",
    "    best_clf = GridSearchCV(est[1](), param_grid=grid_params[est[0]], cv=cv_split, scoring='accuracy', n_jobs=12)\n",
    "    best_clf.fit(X_train, y_train)\n",
    "    \n",
    "    best_params_df.loc[est[0], 'Optimized Hyperparameters'] = [best_clf.best_params_]\n",
    "    best_params_df.loc[est[0], 'Accuracy'] = best_clf.best_score_\n",
    "    "
   ]
  },
  {
   "cell_type": "markdown",
   "metadata": {},
   "source": []
  },
  {
   "cell_type": "code",
   "execution_count": 16,
   "metadata": {
    "scrolled": true
   },
   "outputs": [
    {
     "data": {
      "text/html": [
       "<div>\n",
       "<style scoped>\n",
       "    .dataframe tbody tr th:only-of-type {\n",
       "        vertical-align: middle;\n",
       "    }\n",
       "\n",
       "    .dataframe tbody tr th {\n",
       "        vertical-align: top;\n",
       "    }\n",
       "\n",
       "    .dataframe thead th {\n",
       "        text-align: right;\n",
       "    }\n",
       "</style>\n",
       "<table border=\"1\" class=\"dataframe\">\n",
       "  <thead>\n",
       "    <tr style=\"text-align: right;\">\n",
       "      <th></th>\n",
       "      <th>Optimized Hyperparameters</th>\n",
       "      <th>Accuracy</th>\n",
       "    </tr>\n",
       "  </thead>\n",
       "  <tbody>\n",
       "    <tr>\n",
       "      <th>Random Forest Classifier</th>\n",
       "      <td>[{'criterion': 'entropy', 'max_depth': 1, 'n_e...</td>\n",
       "      <td>0.879487</td>\n",
       "    </tr>\n",
       "    <tr>\n",
       "      <th>Extra Trees Classifier</th>\n",
       "      <td>[{'learning_rate': 0.015, 'max_depth': 5, 'n_e...</td>\n",
       "      <td>0.913782</td>\n",
       "    </tr>\n",
       "    <tr>\n",
       "      <th>Gradient Boosting Classifier</th>\n",
       "      <td>[{'learning_rate': 0.015, 'max_depth': 5, 'n_e...</td>\n",
       "      <td>0.924038</td>\n",
       "    </tr>\n",
       "    <tr>\n",
       "      <th>Passive Aggressive Classifier</th>\n",
       "      <td>[{'C': 18}]</td>\n",
       "      <td>0.926603</td>\n",
       "    </tr>\n",
       "    <tr>\n",
       "      <th>Bagging Classifier</th>\n",
       "      <td>[{'n_estimators': 200, 'random_state': 0}]</td>\n",
       "      <td>0.928205</td>\n",
       "    </tr>\n",
       "    <tr>\n",
       "      <th>Linear SVC</th>\n",
       "      <td>[{'C': 1, 'random_state': 0}]</td>\n",
       "      <td>0.93109</td>\n",
       "    </tr>\n",
       "    <tr>\n",
       "      <th>AdaBoost Classifier</th>\n",
       "      <td>[{'learning_rate': 0.19, 'n_estimators': 125, ...</td>\n",
       "      <td>0.931731</td>\n",
       "    </tr>\n",
       "    <tr>\n",
       "      <th>Logistic Regression</th>\n",
       "      <td>[{'C': 7.0, 'random_state': 0, 'solver': 'libl...</td>\n",
       "      <td>0.934295</td>\n",
       "    </tr>\n",
       "    <tr>\n",
       "      <th>LightBgm Classifier</th>\n",
       "      <td>[{'criterion': 'entropy', 'n_estimators': 100,...</td>\n",
       "      <td>0.94391</td>\n",
       "    </tr>\n",
       "  </tbody>\n",
       "</table>\n",
       "</div>"
      ],
      "text/plain": [
       "                                                       Optimized Hyperparameters  \\\n",
       "Random Forest Classifier       [{'criterion': 'entropy', 'max_depth': 1, 'n_e...   \n",
       "Extra Trees Classifier         [{'learning_rate': 0.015, 'max_depth': 5, 'n_e...   \n",
       "Gradient Boosting Classifier   [{'learning_rate': 0.015, 'max_depth': 5, 'n_e...   \n",
       "Passive Aggressive Classifier                                        [{'C': 18}]   \n",
       "Bagging Classifier                    [{'n_estimators': 200, 'random_state': 0}]   \n",
       "Linear SVC                                         [{'C': 1, 'random_state': 0}]   \n",
       "AdaBoost Classifier            [{'learning_rate': 0.19, 'n_estimators': 125, ...   \n",
       "Logistic Regression            [{'C': 7.0, 'random_state': 0, 'solver': 'libl...   \n",
       "LightBgm Classifier            [{'criterion': 'entropy', 'n_estimators': 100,...   \n",
       "\n",
       "                               Accuracy  \n",
       "Random Forest Classifier       0.879487  \n",
       "Extra Trees Classifier         0.913782  \n",
       "Gradient Boosting Classifier   0.924038  \n",
       "Passive Aggressive Classifier  0.926603  \n",
       "Bagging Classifier             0.928205  \n",
       "Linear SVC                      0.93109  \n",
       "AdaBoost Classifier            0.931731  \n",
       "Logistic Regression            0.934295  \n",
       "LightBgm Classifier             0.94391  "
      ]
     },
     "execution_count": 16,
     "metadata": {},
     "output_type": "execute_result"
    }
   ],
   "source": [
    "# Showing the results of grid-search cross-validation\n",
    "best_params_df.sort_values('Accuracy')"
   ]
  },
  {
   "cell_type": "code",
   "execution_count": 21,
   "metadata": {},
   "outputs": [
    {
     "data": {
      "text/plain": [
       "[{'criterion': 'entropy', 'n_estimators': 100, 'random_state': 0}]"
      ]
     },
     "execution_count": 21,
     "metadata": {},
     "output_type": "execute_result"
    }
   ],
   "source": [
    "best_params_df.loc['LightBgm Classifier', 'Optimized Hyperparameters']"
   ]
  },
  {
   "cell_type": "markdown",
   "metadata": {},
   "source": []
  },
  {
   "cell_type": "markdown",
   "metadata": {},
   "source": [
    "---\n",
    "<a id='section 5.0.'></a>\n",
    "## 5.0. Prediction\n"
   ]
  },
  {
   "cell_type": "code",
   "execution_count": 29,
   "metadata": {},
   "outputs": [
    {
     "name": "stdout",
     "output_type": "stream",
     "text": [
      "The accuracy of the model based on the test set: 0.9423076923076923\n"
     ]
    }
   ],
   "source": [
    "from sklearn.metrics import accuracy_score\n",
    "\n",
    "clf = ExtraTreesClassifier(criterion = 'gini',\n",
    "                           n_estimators = 100,\n",
    "                           random_state = 0)\n",
    "\n",
    "clf.fit(X_train, y_train)\n",
    "\n",
    "predictions = clf.predict(X_test)\n",
    "\n",
    "print('The accuracy of the model based on the test set: {}'.format(accuracy_score(y_test, predictions)))"
   ]
  },
  {
   "cell_type": "code",
   "execution_count": 27,
   "metadata": {},
   "outputs": [
    {
     "name": "stdout",
     "output_type": "stream",
     "text": [
      "The precision of the model based on the test set: 0.9541984732824428\n",
      "The recall of the model based on the test set: 0.9328358208955224\n",
      "The F1 score of the model based on the test set: 0.9433962264150944\n"
     ]
    }
   ],
   "source": [
    "from sklearn.metrics import precision_score, recall_score, f1_score\n",
    "\n",
    "print('The precision of the model based on the test set: {}'.format(precision_score(y_test, predictions)))\n",
    "print('The recall of the model based on the test set: {}'.format(recall_score(y_test, predictions)))\n",
    "print('The F1 score of the model based on the test set: {}'.format(f1_score(y_test, predictions)))"
   ]
  },
  {
   "cell_type": "code",
   "execution_count": null,
   "metadata": {},
   "outputs": [],
   "source": []
  }
 ],
 "metadata": {
  "kernelspec": {
   "display_name": "Python 3",
   "language": "python",
   "name": "python3"
  },
  "language_info": {
   "codemirror_mode": {
    "name": "ipython",
    "version": 3
   },
   "file_extension": ".py",
   "mimetype": "text/x-python",
   "name": "python",
   "nbconvert_exporter": "python",
   "pygments_lexer": "ipython3",
   "version": "3.10.8 (tags/v3.10.8:aaaf517, Oct 11 2022, 16:50:30) [MSC v.1933 64 bit (AMD64)]"
  },
  "vscode": {
   "interpreter": {
    "hash": "a42ccb73e7d9bfdf27e036f1d2b8b681e55fc0743cc5586bc2474d4a60f4b886"
   }
  }
 },
 "nbformat": 4,
 "nbformat_minor": 2
}
